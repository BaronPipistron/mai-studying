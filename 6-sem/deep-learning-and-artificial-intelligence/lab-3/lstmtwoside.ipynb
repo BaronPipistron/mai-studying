{
 "cells": [
  {
   "cell_type": "code",
   "execution_count": 1,
   "metadata": {
    "_cell_guid": "b1076dfc-b9ad-4769-8c92-a6c4dae69d19",
    "_uuid": "8f2839f25d086af736a60e9eeb907d3b93b6e0e5",
    "execution": {
     "iopub.execute_input": "2024-05-25T19:17:49.896213Z",
     "iopub.status.busy": "2024-05-25T19:17:49.895847Z",
     "iopub.status.idle": "2024-05-25T19:18:03.985007Z",
     "shell.execute_reply": "2024-05-25T19:18:03.984070Z",
     "shell.execute_reply.started": "2024-05-25T19:17:49.896184Z"
    },
    "trusted": true
   },
   "outputs": [
    {
     "name": "stdout",
     "output_type": "stream",
     "text": [
      "Defaulting to user installation because normal site-packages is not writeable\n",
      "Requirement already satisfied: mplcyberpunk in /home/aleksandr/.local/lib/python3.10/site-packages (0.7.6)\n",
      "Requirement already satisfied: numpy>1.24.4 in /home/aleksandr/.local/lib/python3.10/site-packages (from mplcyberpunk) (1.26.4)\n",
      "Requirement already satisfied: matplotlib in /home/aleksandr/.local/lib/python3.10/site-packages (from mplcyberpunk) (3.9.2)\n",
      "Requirement already satisfied: python-dateutil>=2.7 in /home/aleksandr/.local/lib/python3.10/site-packages (from matplotlib->mplcyberpunk) (2.9.0.post0)\n",
      "Requirement already satisfied: packaging>=20.0 in /home/aleksandr/.local/lib/python3.10/site-packages (from matplotlib->mplcyberpunk) (24.0)\n",
      "Requirement already satisfied: pyparsing>=2.3.1 in /usr/lib/python3/dist-packages (from matplotlib->mplcyberpunk) (2.4.7)\n",
      "Requirement already satisfied: contourpy>=1.0.1 in /home/aleksandr/.local/lib/python3.10/site-packages (from matplotlib->mplcyberpunk) (1.2.1)\n",
      "Requirement already satisfied: pillow>=8 in /usr/lib/python3/dist-packages (from matplotlib->mplcyberpunk) (9.0.1)\n",
      "Requirement already satisfied: kiwisolver>=1.3.1 in /home/aleksandr/.local/lib/python3.10/site-packages (from matplotlib->mplcyberpunk) (1.4.5)\n",
      "Requirement already satisfied: cycler>=0.10 in /home/aleksandr/.local/lib/python3.10/site-packages (from matplotlib->mplcyberpunk) (0.12.1)\n",
      "Requirement already satisfied: fonttools>=4.22.0 in /home/aleksandr/.local/lib/python3.10/site-packages (from matplotlib->mplcyberpunk) (4.52.1)\n",
      "Requirement already satisfied: six>=1.5 in /usr/lib/python3/dist-packages (from python-dateutil>=2.7->matplotlib->mplcyberpunk) (1.16.0)\n"
     ]
    }
   ],
   "source": [
    "!pip install mplcyberpunk"
   ]
  },
  {
   "cell_type": "code",
   "execution_count": 2,
   "metadata": {
    "execution": {
     "iopub.execute_input": "2024-05-25T19:18:09.208232Z",
     "iopub.status.busy": "2024-05-25T19:18:09.207857Z",
     "iopub.status.idle": "2024-05-25T19:18:09.489094Z",
     "shell.execute_reply": "2024-05-25T19:18:09.488109Z",
     "shell.execute_reply.started": "2024-05-25T19:18:09.208207Z"
    },
    "trusted": true
   },
   "outputs": [],
   "source": [
    "import nltk\n",
    "import matplotlib.pyplot as plt\n",
    "import mplcyberpunk  \n",
    "\n",
    "plt.style.use([\"dark_background\", \"cyberpunk\"])"
   ]
  },
  {
   "cell_type": "code",
   "execution_count": 3,
   "metadata": {
    "execution": {
     "iopub.execute_input": "2024-05-25T19:25:15.396315Z",
     "iopub.status.busy": "2024-05-25T19:25:15.395977Z",
     "iopub.status.idle": "2024-05-25T19:25:15.406533Z",
     "shell.execute_reply": "2024-05-25T19:25:15.405497Z",
     "shell.execute_reply.started": "2024-05-25T19:25:15.396290Z"
    },
    "trusted": true
   },
   "outputs": [],
   "source": [
    "import os\n",
    "from collections import Counter\n",
    "from nltk.tokenize import PunktSentenceTokenizer, TweetTokenizer\n",
    "\n",
    "def read_text(paths):\n",
    "    documents = []\n",
    "    for root, dirs, files in os.walk(paths):\n",
    "        for file in files:\n",
    "            file_path = os.path.join(root, file)\n",
    "            try:\n",
    "                with open(file_path, 'r', encoding='utf-8', errors='replace') as f:\n",
    "                    lines = f.readlines()\n",
    "                    content = ''.join(lines)\n",
    "                    documents.append(content)\n",
    "            except UnicodeDecodeError:\n",
    "                print(f\"Error reading file: {file_path}\")      \n",
    "    return '\\n'.join(documents)\n",
    "\n",
    "def clear(text: str) -> None:\n",
    "    counter = Counter()\n",
    "    vocab = {'<EOS>', '<BOS>', '<UNK>'}\n",
    "    sentence_tokenizer = PunktSentenceTokenizer()\n",
    "    punct_tokenizer = TweetTokenizer()\n",
    "    new_sentences = []\n",
    "    for sentence in sentence_tokenizer.tokenize(text):\n",
    "        if '\"' not in sentence:\n",
    "            words = punct_tokenizer.tokenize(sentence.replace('\\\\', ''))\n",
    "            for word in words:\n",
    "                counter[word] += 1\n",
    "            if len(words) > 4:\n",
    "                new_sentences.append(words)\n",
    "    for w, c in counter.items():\n",
    "        if c > 100:\n",
    "            vocab.add(w)\n",
    "    return new_sentences, vocab"
   ]
  },
  {
   "cell_type": "code",
   "execution_count": 4,
   "metadata": {
    "execution": {
     "iopub.execute_input": "2024-05-25T19:25:15.725353Z",
     "iopub.status.busy": "2024-05-25T19:25:15.725019Z",
     "iopub.status.idle": "2024-05-25T19:25:15.729522Z",
     "shell.execute_reply": "2024-05-25T19:25:15.728587Z",
     "shell.execute_reply.started": "2024-05-25T19:25:15.725329Z"
    },
    "trusted": true
   },
   "outputs": [],
   "source": [
    "path = 'bbc-news-summary/'"
   ]
  },
  {
   "cell_type": "code",
   "execution_count": 5,
   "metadata": {
    "execution": {
     "iopub.execute_input": "2024-05-25T19:25:16.025353Z",
     "iopub.status.busy": "2024-05-25T19:25:16.025000Z",
     "iopub.status.idle": "2024-05-25T19:25:35.865431Z",
     "shell.execute_reply": "2024-05-25T19:25:35.864464Z",
     "shell.execute_reply.started": "2024-05-25T19:25:16.025325Z"
    },
    "trusted": true
   },
   "outputs": [],
   "source": [
    "from sklearn.model_selection import train_test_split\n",
    "\n",
    "origin_text = read_text(path)\n",
    "\n",
    "sentences, vocab = clear(origin_text)\n",
    "train_sentences, val_sentences = train_test_split(sentences, test_size=0.3)\n",
    "\n",
    "word2ind = {char: ind for ind, char in enumerate(vocab)}\n",
    "ind2word = {ind: char for char, ind in word2ind.items()}"
   ]
  },
  {
   "cell_type": "code",
   "execution_count": 6,
   "metadata": {
    "execution": {
     "iopub.execute_input": "2024-05-25T19:25:35.867338Z",
     "iopub.status.busy": "2024-05-25T19:25:35.867054Z",
     "iopub.status.idle": "2024-05-25T19:25:35.882412Z",
     "shell.execute_reply": "2024-05-25T19:25:35.881541Z",
     "shell.execute_reply.started": "2024-05-25T19:25:35.867314Z"
    },
    "trusted": true
   },
   "outputs": [],
   "source": [
    "import torch\n",
    "from torch.utils.data import Dataset\n",
    "\n",
    "class TextDataset(Dataset):\n",
    "    \n",
    "    def __init__(self, sentences: list) -> None:\n",
    "        self.data = sentences\n",
    "    \n",
    "    def __len__(self) -> int:\n",
    "        return len(self.data)\n",
    "    \n",
    "    def __getitem__(self, index: int) -> str:\n",
    "        return self.data[index]\n",
    "    \n",
    "\n",
    "def collate(input_batch: list, char_to_ind: dict, mode='char'):\n",
    "    if mode == 'char':\n",
    "        seq_lens = [len(list(sent)) for sent in input_batch]\n",
    "    elif mode == 'word':\n",
    "        seq_lens = [len(x) for x in input_batch]   \n",
    "    max_seq = max(seq_lens)\n",
    "    new_batch = []\n",
    "    masks = []\n",
    "    for sequence in input_batch:\n",
    "        new_sequence = [char_to_ind['<BOS>'], ]\n",
    "        mask = [1, ]\n",
    "        first = True\n",
    "        for i in range(max_seq):\n",
    "            if i < len(sequence):\n",
    "                if sequence[i] in char_to_ind:\n",
    "                    new_sequence.append(char_to_ind[sequence[i]])\n",
    "                    mask.append(1)\n",
    "                else:\n",
    "                    new_sequence.append(char_to_ind['<UNK>'])\n",
    "                    mask.append(0)\n",
    "            else:\n",
    "                if first:\n",
    "                    mask.append(1)\n",
    "                    first = False\n",
    "                else:\n",
    "                    mask.append(0)\n",
    "                new_sequence.append(char_to_ind['<EOS>'])\n",
    "        new_sequence.append(char_to_ind['<EOS>'])\n",
    "        if len(sequence) == max_seq:\n",
    "            mask.append(1)\n",
    "        else:\n",
    "            mask.append(0)\n",
    "        new_batch.append(new_sequence)\n",
    "        masks.append(mask)\n",
    "    sequences = torch.LongTensor(new_batch)\n",
    "    masks = torch.Tensor(masks)\n",
    "    new_batch = {\n",
    "        'input_ids': sequences[:,:-1],\n",
    "        'target_ids': sequences[:,1:],\n",
    "        'masks': masks[:, 1:]\n",
    "    }\n",
    "    return new_batch"
   ]
  },
  {
   "cell_type": "code",
   "execution_count": 7,
   "metadata": {
    "execution": {
     "iopub.execute_input": "2024-05-25T19:25:55.815082Z",
     "iopub.status.busy": "2024-05-25T19:25:55.814738Z",
     "iopub.status.idle": "2024-05-25T19:25:55.823061Z",
     "shell.execute_reply": "2024-05-25T19:25:55.822218Z",
     "shell.execute_reply.started": "2024-05-25T19:25:55.815056Z"
    },
    "trusted": true
   },
   "outputs": [],
   "source": [
    "from torch.utils.data import DataLoader, Dataset\n",
    "from functools import partial\n",
    "\n",
    "train_dataset = TextDataset(train_sentences)\n",
    "train_loader = DataLoader(train_dataset, batch_size=64, collate_fn=partial(collate, char_to_ind=word2ind, mode='word'))\n",
    "\n",
    "val_dataset = TextDataset(val_sentences)\n",
    "val_loader = DataLoader(val_dataset, batch_size=64, collate_fn=partial(collate, char_to_ind=word2ind, mode='word'))"
   ]
  },
  {
   "cell_type": "code",
   "execution_count": 8,
   "metadata": {
    "execution": {
     "iopub.execute_input": "2024-05-25T19:26:34.897492Z",
     "iopub.status.busy": "2024-05-25T19:26:34.896767Z",
     "iopub.status.idle": "2024-05-25T19:26:34.907151Z",
     "shell.execute_reply": "2024-05-25T19:26:34.906107Z",
     "shell.execute_reply.started": "2024-05-25T19:26:34.897461Z"
    },
    "trusted": true
   },
   "outputs": [],
   "source": [
    "import torch.nn as nn\n",
    "\n",
    "class LSTMModel(nn.Module):\n",
    "    def __init__(self, vocab, num_lstm_layers=1, hidden_dim=128, dropout=0.1, bidirectional=False):\n",
    "        super().__init__()\n",
    "        self.embed_dim = 400\n",
    "        self.hidden_dim = hidden_dim\n",
    "        self.vocab_size = len(vocab)\n",
    "        self.embed_layer = nn.Embedding(self.vocab_size, self.embed_dim)\n",
    "        self.recurrent_layer = nn.LSTM(self.embed_dim, self.hidden_dim, batch_first=True, num_layers=num_lstm_layers, bidirectional=bidirectional)\n",
    "        self.linear_layer = nn.Linear(pow(2, bidirectional) * self.hidden_dim, pow(2, bidirectional) * self.hidden_dim)\n",
    "        self.projection = nn.Linear(pow(2, bidirectional) * self.hidden_dim, self.vocab_size)\n",
    "        self.relu = nn.ReLU()\n",
    "        self.dropout_layer = nn.Dropout(dropout)\n",
    "\n",
    "    def forward(self, input_batch: torch.Tensor) -> torch.Tensor:\n",
    "        x = self.embed_layer(input_batch)\n",
    "        x, _ = self.recurrent_layer(x)\n",
    "        x = self.dropout_layer(self.linear_layer(self.relu(x)))\n",
    "        x = self.projection(x).permute(0, 2, 1)\n",
    "        return x"
   ]
  },
  {
   "cell_type": "code",
   "execution_count": 9,
   "metadata": {
    "execution": {
     "iopub.execute_input": "2024-05-25T19:27:00.403183Z",
     "iopub.status.busy": "2024-05-25T19:27:00.402846Z",
     "iopub.status.idle": "2024-05-25T19:27:00.414905Z",
     "shell.execute_reply": "2024-05-25T19:27:00.413818Z",
     "shell.execute_reply.started": "2024-05-25T19:27:00.403160Z"
    },
    "trusted": true
   },
   "outputs": [],
   "source": [
    "from tqdm import tqdm\n",
    "import mplcyberpunk\n",
    "from IPython.display import clear_output\n",
    "\n",
    "def train_model(model, criterion, optimizer, dataloader, epochs=2):\n",
    "    device = 'cuda' if torch.cuda.is_available() else 'cpu'\n",
    "    model.to(device)\n",
    "    train_history = []\n",
    "    for i in range(epochs):\n",
    "        for j, batch in enumerate(tqdm(dataloader)):\n",
    "            optimizer.zero_grad()\n",
    "            logits = model(batch['input_ids'].to(device))\n",
    "            loss = criterion(logits.cpu(), batch['target_ids'])\n",
    "            masked_loss = loss * batch['masks']\n",
    "            total_loss = masked_loss.sum() / batch['masks'].sum()\n",
    "            total_loss.backward()\n",
    "            optimizer.step()\n",
    "            train_history.append((i * len(dataloader) * len(batch) + j * len(batch), total_loss.item()))\n",
    "            clear_output(True)\n",
    "            plt.scatter(*zip(*train_history), alpha=0.1, label='train_loss')\n",
    "            plt.legend(); plt.grid(); plt.show()        \n",
    "            \n",
    "def validate_model(model, criterion, dataloader):\n",
    "    device = 'cuda' if torch.cuda.is_available() else 'cpu'\n",
    "    model.eval()\n",
    "    perplexity = []\n",
    "    with torch.no_grad():\n",
    "        for batch in tqdm(dataloader):\n",
    "            logits = model(batch['input_ids'].to(device))\n",
    "            loss = criterion(logits.cpu(), batch['target_ids'])\n",
    "            masked_loss = loss * batch['masks']\n",
    "            total_loss = masked_loss.sum() / batch['masks'].sum()\n",
    "            perplexity.append(torch.exp(total_loss).item())\n",
    "    perplexity = sum(perplexity) / len(perplexity)\n",
    "    return perplexity"
   ]
  },
  {
   "cell_type": "code",
   "execution_count": 10,
   "metadata": {
    "execution": {
     "iopub.execute_input": "2024-05-25T19:27:22.062397Z",
     "iopub.status.busy": "2024-05-25T19:27:22.061834Z",
     "iopub.status.idle": "2024-05-25T19:27:24.579228Z",
     "shell.execute_reply": "2024-05-25T19:27:24.578458Z",
     "shell.execute_reply.started": "2024-05-25T19:27:22.062369Z"
    },
    "trusted": true
   },
   "outputs": [],
   "source": [
    "model = LSTMModel(word2ind, num_lstm_layers=3, hidden_dim=256, dropout=0.2, bidirectional=True)\n",
    "criterion = torch.nn.CrossEntropyLoss(reduction='none')\n",
    "optimizer = torch.optim.Adam(model.parameters(), weight_decay=3e-4)"
   ]
  },
  {
   "cell_type": "code",
   "execution_count": 11,
   "metadata": {
    "execution": {
     "iopub.execute_input": "2024-05-25T19:27:29.468050Z",
     "iopub.status.busy": "2024-05-25T19:27:29.467576Z",
     "iopub.status.idle": "2024-05-25T19:34:50.782957Z",
     "shell.execute_reply": "2024-05-25T19:34:50.782010Z",
     "shell.execute_reply.started": "2024-05-25T19:27:29.468024Z"
    },
    "trusted": true
   },
   "outputs": [
    {
     "data": {
      "image/png": "[encoded data removed]",
      "text/plain": [
       "<Figure size 640x480 with 1 Axes>"
      ]
     },
     "metadata": {},
     "output_type": "display_data"
    },
    {
     "name": "stderr",
     "output_type": "stream",
     "text": [
      "100%|██████████| 336/336 [18:36<00:00,  3.32s/it]\n"
     ]
    }
   ],
   "source": [
    "train_model(model, criterion, optimizer, train_loader, epochs=1)"
   ]
  },
  {
   "cell_type": "code",
   "execution_count": 12,
   "metadata": {
    "execution": {
     "iopub.execute_input": "2024-05-25T19:34:50.784948Z",
     "iopub.status.busy": "2024-05-25T19:34:50.784637Z",
     "iopub.status.idle": "2024-05-25T19:35:53.880936Z",
     "shell.execute_reply": "2024-05-25T19:35:53.879978Z",
     "shell.execute_reply.started": "2024-05-25T19:34:50.784914Z"
    },
    "trusted": true
   },
   "outputs": [
    {
     "name": "stderr",
     "output_type": "stream",
     "text": [
      "100%|██████████| 144/144 [02:01<00:00,  1.19it/s]\n"
     ]
    },
    {
     "data": {
      "text/plain": [
       "1.1647192471557193"
      ]
     },
     "execution_count": 12,
     "metadata": {},
     "output_type": "execute_result"
    }
   ],
   "source": [
    "validate_model(model, criterion, val_loader)"
   ]
  },
  {
   "cell_type": "code",
   "execution_count": 13,
   "metadata": {
    "execution": {
     "iopub.execute_input": "2024-05-25T19:35:53.882859Z",
     "iopub.status.busy": "2024-05-25T19:35:53.882414Z",
     "iopub.status.idle": "2024-05-25T19:35:53.892640Z",
     "shell.execute_reply": "2024-05-25T19:35:53.891653Z",
     "shell.execute_reply.started": "2024-05-25T19:35:53.882822Z"
    },
    "trusted": true
   },
   "outputs": [],
   "source": [
    "import numpy as np\n",
    "\n",
    "def inference_word(model, text, word2ind, ind2word, temperature=0.0):    \n",
    "    device = 'cuda' if torch.cuda.is_available() else 'cpu'\n",
    "    punct_tokenizer = TweetTokenizer()\n",
    "    words = punct_tokenizer.tokenize(text)\n",
    "    with torch.no_grad():\n",
    "        while True:\n",
    "            batch = collate([words], word2ind, mode='word')\n",
    "            last_logits = model(batch['input_ids'].to(device))[0, :, -1]\n",
    "            probs = torch.softmax(last_logits, 0).cpu()\n",
    "            if temperature == 0.0:\n",
    "                next_token = ind2word[torch.argmax(probs, 0).item()]\n",
    "            else:\n",
    "                probs = np.array([p ** (1. / temperature) for p in probs])\n",
    "                probs /= sum(probs)\n",
    "                next_token = np.random.choice(list(word2ind.keys()), p=probs)\n",
    "            if next_token == '<EOS>' or len(words) == 30:\n",
    "                break\n",
    "            words.append(next_token)\n",
    "    return ' '.join(words)"
   ]
  },
  {
   "cell_type": "code",
   "execution_count": 14,
   "metadata": {
    "execution": {
     "iopub.execute_input": "2024-05-25T19:37:09.614040Z",
     "iopub.status.busy": "2024-05-25T19:37:09.613647Z",
     "iopub.status.idle": "2024-05-25T19:37:10.254027Z",
     "shell.execute_reply": "2024-05-25T19:37:10.253020Z",
     "shell.execute_reply.started": "2024-05-25T19:37:09.614012Z"
    },
    "trusted": true
   },
   "outputs": [
    {
     "data": {
      "text/plain": [
       "'A Christmas tree With South Christmas great American summer believes within turn age firm goal goal 4 phone research Street six general deficit goal second boss League August 2 !'"
      ]
     },
     "execution_count": 14,
     "metadata": {},
     "output_type": "execute_result"
    }
   ],
   "source": [
    "inference_word(model, 'A Christmas tree ', word2ind, ind2word, temperature=1.7)"
   ]
  }
 ],
 "metadata": {
  "kaggle": {
   "accelerator": "gpu",
   "dataSources": [
    {
     "datasetId": 24984,
     "sourceId": 32267,
     "sourceType": "datasetVersion"
    }
   ],
   "dockerImageVersionId": 30699,
   "isGpuEnabled": true,
   "isInternetEnabled": true,
   "language": "python",
   "sourceType": "notebook"
  },
  "kernelspec": {
   "display_name": "Python 3",
   "language": "python",
   "name": "python3"
  },
  "language_info": {
   "codemirror_mode": {
    "name": "ipython",
    "version": 3
   },
   "file_extension": ".py",
   "mimetype": "text/x-python",
   "name": "python",
   "nbconvert_exporter": "python",
   "pygments_lexer": "ipython3",
   "version": "3.10.12"
  }
 },
 "nbformat": 4,
 "nbformat_minor": 4
}
