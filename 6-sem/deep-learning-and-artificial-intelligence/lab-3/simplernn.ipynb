{
 "cells": [
  {
   "cell_type": "code",
   "execution_count": 1,
   "metadata": {
    "execution": {
     "iopub.execute_input": "2024-05-25T10:09:19.785990Z",
     "iopub.status.busy": "2024-05-25T10:09:19.785624Z",
     "iopub.status.idle": "2024-05-25T10:09:20.125016Z",
     "shell.execute_reply": "2024-05-25T10:09:20.124274Z",
     "shell.execute_reply.started": "2024-05-25T10:09:19.785962Z"
    },
    "trusted": true
   },
   "outputs": [],
   "source": [
    "import pandas as pd\n",
    "import numpy as np\n",
    "import nltk\n",
    "import torch\n",
    "import torch.nn as nn\n",
    "import matplotlib.pyplot as plt\n",
    "import os\n",
    "from nltk.tokenize import sent_tokenize, word_tokenize\n",
    "from torch.utils.data import DataLoader, Dataset\n",
    "from functools import partial\n",
    "from tqdm import tqdm\n",
    "from sklearn.model_selection import train_test_split\n",
    "from IPython.display import clear_output\n",
    "from collections import Counter\n",
    "import mplcyberpunk"
   ]
  },
  {
   "cell_type": "code",
   "execution_count": 2,
   "metadata": {
    "execution": {
     "iopub.execute_input": "2024-05-25T10:09:23.221794Z",
     "iopub.status.busy": "2024-05-25T10:09:23.221138Z",
     "iopub.status.idle": "2024-05-25T10:09:23.227519Z",
     "shell.execute_reply": "2024-05-25T10:09:23.226467Z",
     "shell.execute_reply.started": "2024-05-25T10:09:23.221761Z"
    },
    "trusted": true
   },
   "outputs": [
    {
     "name": "stderr",
     "output_type": "stream",
     "text": [
      "[nltk_data] Downloading package punkt to /home/aleksandr/nltk_data...\n",
      "[nltk_data]   Package punkt is already up-to-date!\n"
     ]
    }
   ],
   "source": [
    "nltk.download('punkt')\n",
    "plt.style.use([\"dark_background\", \"cyberpunk\"])"
   ]
  },
  {
   "cell_type": "markdown",
   "metadata": {},
   "source": [
    "## SimpleRNN with symbol tokenize"
   ]
  },
  {
   "cell_type": "code",
   "execution_count": 3,
   "metadata": {
    "execution": {
     "iopub.execute_input": "2024-05-25T09:53:22.132923Z",
     "iopub.status.busy": "2024-05-25T09:53:22.132222Z",
     "iopub.status.idle": "2024-05-25T09:53:22.143027Z",
     "shell.execute_reply": "2024-05-25T09:53:22.142042Z",
     "shell.execute_reply.started": "2024-05-25T09:53:22.132891Z"
    },
    "trusted": true
   },
   "outputs": [],
   "source": [
    "def read_text(paths):\n",
    "    documents = []\n",
    "    for root, dirs, files in os.walk(paths):\n",
    "        for file in files:\n",
    "            file_path = os.path.join(root, file)\n",
    "            try:\n",
    "                with open(file_path, 'r', encoding='utf-8', errors='replace') as f:\n",
    "                    lines = f.readlines()\n",
    "                    content = ''.join(lines)\n",
    "                    documents.append(content)\n",
    "            except UnicodeDecodeError:\n",
    "                print(f\"Error reading file: {file_path}\")\n",
    "                \n",
    "    return '\\n'.join(documents)\n",
    "\n",
    "spam_word = ['\\ufeff', '\\t', '\\u2060', '¦', '«', '»', '\\n', \"\\'\"]\n",
    "\n",
    "def proceed_vocab(text: str) -> set:\n",
    "    \n",
    "    extra_symbols = ['<EOS>', '<BOS>', '<UNK>']\n",
    "    vocab = set()\n",
    "    for char in text:\n",
    "        if char not in vocab:\n",
    "            vocab.add(char)\n",
    "    \n",
    "    for char in extra_symbols:\n",
    "        vocab.add(char)\n",
    "            \n",
    "    return vocab\n",
    "\n",
    "def proceed_text(symbols: list, text: str) -> None:\n",
    "    new_sentences = []\n",
    "    sentences = sent_tokenize(text)\n",
    "    for sentence in sentences:\n",
    "        \n",
    "        new_sentence = []\n",
    "        for symbol in sentence:\n",
    "            if symbol not in symbols:\n",
    "                new_sentence.append(symbol)\n",
    "        \n",
    "        if len(new_sentence) >= 20:\n",
    "            new_sentences.append(''.join(new_sentence))\n",
    "    \n",
    "    return new_sentences    "
   ]
  },
  {
   "cell_type": "code",
   "execution_count": 4,
   "metadata": {
    "execution": {
     "iopub.execute_input": "2024-05-25T09:53:26.647633Z",
     "iopub.status.busy": "2024-05-25T09:53:26.646797Z",
     "iopub.status.idle": "2024-05-25T09:53:59.876087Z",
     "shell.execute_reply": "2024-05-25T09:53:59.875282Z",
     "shell.execute_reply.started": "2024-05-25T09:53:26.647589Z"
    },
    "trusted": true
   },
   "outputs": [],
   "source": [
    "paths = 'bbc-news-summary/'\n",
    "text = read_text(paths)"
   ]
  },
  {
   "cell_type": "code",
   "execution_count": 5,
   "metadata": {
    "execution": {
     "iopub.execute_input": "2024-05-25T09:54:03.634584Z",
     "iopub.status.busy": "2024-05-25T09:54:03.633744Z",
     "iopub.status.idle": "2024-05-25T09:54:14.108379Z",
     "shell.execute_reply": "2024-05-25T09:54:14.107595Z",
     "shell.execute_reply.started": "2024-05-25T09:54:03.634548Z"
    },
    "trusted": true
   },
   "outputs": [],
   "source": [
    "sentences = proceed_text(spam_word, text)\n",
    "train_sentences, val_sentences = train_test_split(sentences, test_size=0.3)"
   ]
  },
  {
   "cell_type": "code",
   "execution_count": 6,
   "metadata": {
    "execution": {
     "iopub.execute_input": "2024-05-25T09:54:14.110079Z",
     "iopub.status.busy": "2024-05-25T09:54:14.109804Z",
     "iopub.status.idle": "2024-05-25T09:54:14.799520Z",
     "shell.execute_reply": "2024-05-25T09:54:14.798515Z",
     "shell.execute_reply.started": "2024-05-25T09:54:14.110056Z"
    },
    "trusted": true
   },
   "outputs": [],
   "source": [
    "vocab_set = proceed_vocab(''.join(sentences))\n",
    "char_to_ind = {char: ind for ind, char in enumerate(vocab_set)}\n",
    "ind_to_char = {ind: char for char, ind in char_to_ind.items()}"
   ]
  },
  {
   "cell_type": "code",
   "execution_count": 7,
   "metadata": {
    "execution": {
     "iopub.execute_input": "2024-05-25T09:33:17.800212Z",
     "iopub.status.busy": "2024-05-25T09:33:17.799574Z",
     "iopub.status.idle": "2024-05-25T09:33:17.812281Z",
     "shell.execute_reply": "2024-05-25T09:33:17.811261Z",
     "shell.execute_reply.started": "2024-05-25T09:33:17.800178Z"
    },
    "trusted": true
   },
   "outputs": [],
   "source": [
    "class TextDataset(torch.utils.data.Dataset):\n",
    "    def __init__(self, sentences: list):\n",
    "        self.data = sentences\n",
    "\n",
    "    def __len__(self):\n",
    "        return len(self.data)\n",
    "\n",
    "    def __getitem__(self, index: int):\n",
    "        return self.data[index]\n",
    "\n",
    "def collate(input_batch: list, char_to_ind: dict, mode='char'):\n",
    "    if mode == 'char':\n",
    "        seq_lens = [len(list(sent)) for sent in input_batch]\n",
    "    elif mode == 'word':\n",
    "        seq_lens = [len(x) for x in input_batch]\n",
    "    max_seq_len = max(seq_lens)\n",
    "    \n",
    "    new_batch = []\n",
    "    masks = []\n",
    "    for sequence in input_batch:\n",
    "        new_sequence = [char_to_ind['<BOS>'], ]\n",
    "        mask = [1, ]\n",
    "        first = True\n",
    "        for i in range(max_seq_len):\n",
    "            if i < len(sequence):\n",
    "                if sequence[i] in char_to_ind:\n",
    "                    new_sequence.append(char_to_ind[sequence[i]])\n",
    "                    mask.append(1)\n",
    "                else:\n",
    "                    new_sequence.append(char_to_ind['<UNK>'])\n",
    "                    mask.append(0)\n",
    "            else:\n",
    "                if first:\n",
    "                    mask.append(1)\n",
    "                    first = False\n",
    "                else:\n",
    "                    mask.append(0)\n",
    "                new_sequence.append(char_to_ind['<EOS>'])\n",
    "        new_sequence.append(char_to_ind['<EOS>'])\n",
    "        if len(sequence) == max_seq_len:\n",
    "            mask.append(1)\n",
    "        else:\n",
    "            mask.append(0)\n",
    "        \n",
    "        new_batch.append(new_sequence)\n",
    "        masks.append(mask)\n",
    "        \n",
    "    sequences = torch.LongTensor(new_batch)\n",
    "    masks = torch.Tensor(masks)\n",
    "    new_batch = {\n",
    "        'input_ids': sequences[:,:-1],\n",
    "        'target_ids': sequences[:,1:],\n",
    "        'masks': masks[:, 1:]\n",
    "    }\n",
    "    \n",
    "    return new_batch\n"
   ]
  },
  {
   "cell_type": "code",
   "execution_count": 8,
   "metadata": {
    "execution": {
     "iopub.execute_input": "2024-05-25T09:54:21.428308Z",
     "iopub.status.busy": "2024-05-25T09:54:21.427369Z",
     "iopub.status.idle": "2024-05-25T09:54:21.433178Z",
     "shell.execute_reply": "2024-05-25T09:54:21.432419Z",
     "shell.execute_reply.started": "2024-05-25T09:54:21.428265Z"
    },
    "trusted": true
   },
   "outputs": [],
   "source": [
    "train_dataset = TextDataset(train_sentences)\n",
    "train_loader = DataLoader(train_dataset, batch_size=64, collate_fn=partial(collate, char_to_ind=char_to_ind))\n",
    "\n",
    "val_dataset = TextDataset(val_sentences)\n",
    "val_loader = DataLoader(val_dataset, batch_size=64, collate_fn=partial(collate, char_to_ind=char_to_ind))"
   ]
  },
  {
   "cell_type": "code",
   "execution_count": 9,
   "metadata": {
    "execution": {
     "iopub.execute_input": "2024-05-25T09:33:18.638981Z",
     "iopub.status.busy": "2024-05-25T09:33:18.638637Z",
     "iopub.status.idle": "2024-05-25T09:33:18.647411Z",
     "shell.execute_reply": "2024-05-25T09:33:18.646305Z",
     "shell.execute_reply.started": "2024-05-25T09:33:18.638954Z"
    },
    "trusted": true
   },
   "outputs": [],
   "source": [
    "class SimpleRNN(nn.Module):\n",
    "    def __init__(self, vocab):\n",
    "        super().__init__()\n",
    "\n",
    "        self.embed_dim = 300\n",
    "        self.hidden_dim = 128\n",
    "        self.vocab_size = len(vocab)\n",
    "\n",
    "        self.embed_layer = nn.Embedding(self.vocab_size, self.embed_dim)\n",
    "        self.recurrent_layer = nn.RNN(self.embed_dim, self.hidden_dim, batch_first=True, num_layers=3)\n",
    "        self.linear_layer = nn.Linear(self.hidden_dim, self.hidden_dim)\n",
    "        self.projection = nn.Linear(self.hidden_dim, self.vocab_size)\n",
    "\n",
    "        self.tanh = nn.Tanh();\n",
    "        self.dropout_layer = nn.Dropout(0.1)\n",
    "\n",
    "    def forward(self, input_batch: torch.Tensor) -> torch.Tensor:\n",
    "\n",
    "\n",
    "        x = self.embed_layer(input_batch)\n",
    "        x, _ = self.recurrent_layer(x)\n",
    "        x = self.dropout_layer(self.linear_layer(self.tanh(x)))\n",
    "        x = self.projection(x).permute(0, 2, 1)\n",
    "\n",
    "        return x"
   ]
  },
  {
   "cell_type": "code",
   "execution_count": 10,
   "metadata": {
    "execution": {
     "iopub.execute_input": "2024-05-25T09:33:18.979124Z",
     "iopub.status.busy": "2024-05-25T09:33:18.978185Z",
     "iopub.status.idle": "2024-05-25T09:33:18.987325Z",
     "shell.execute_reply": "2024-05-25T09:33:18.986431Z",
     "shell.execute_reply.started": "2024-05-25T09:33:18.979096Z"
    },
    "trusted": true
   },
   "outputs": [],
   "source": [
    "def train_model(model, criterion, optimizer, dataloader, epochs=2):\n",
    "    \n",
    "    device = 'cuda' if torch.cuda.is_available() else 'cpu'\n",
    "    model.to(device)\n",
    "\n",
    "    train_history = []\n",
    "    for i in range(epochs):\n",
    "\n",
    "        for j, batch in enumerate(tqdm(dataloader)):\n",
    "            optimizer.zero_grad()\n",
    "            \n",
    "            logits = model(batch['input_ids'].to(device))\n",
    "            loss = criterion(logits.cpu(), batch['target_ids'])\n",
    "            \n",
    "            masked_loss = loss * batch['masks']\n",
    "            total_loss = masked_loss.sum() / batch['masks'].sum()\n",
    "            \n",
    "            total_loss.backward()\n",
    "            optimizer.step()\n",
    "            \n",
    "            train_history.append((i * len(dataloader) * len(batch) + j * len(batch), total_loss.item()))\n",
    "            clear_output(True)\n",
    "            plt.scatter(*zip(*train_history), alpha=0.1, label='train_loss')\n",
    "            plt.legend(); plt.grid(); plt.show()"
   ]
  },
  {
   "cell_type": "code",
   "execution_count": 11,
   "metadata": {
    "execution": {
     "iopub.execute_input": "2024-05-25T10:09:43.187453Z",
     "iopub.status.busy": "2024-05-25T10:09:43.186797Z",
     "iopub.status.idle": "2024-05-25T10:09:43.195318Z",
     "shell.execute_reply": "2024-05-25T10:09:43.194505Z",
     "shell.execute_reply.started": "2024-05-25T10:09:43.187418Z"
    },
    "trusted": true
   },
   "outputs": [],
   "source": [
    "model = SimpleRNN(char_to_ind)\n",
    "criterion = torch.nn.CrossEntropyLoss(reduction='none')\n",
    "optimizer = torch.optim.Adam(model.parameters())"
   ]
  },
  {
   "cell_type": "code",
   "execution_count": 12,
   "metadata": {
    "execution": {
     "iopub.execute_input": "2024-05-25T10:09:43.975529Z",
     "iopub.status.busy": "2024-05-25T10:09:43.975170Z",
     "iopub.status.idle": "2024-05-25T10:21:42.896819Z",
     "shell.execute_reply": "2024-05-25T10:21:42.895868Z",
     "shell.execute_reply.started": "2024-05-25T10:09:43.975500Z"
    },
    "trusted": true
   },
   "outputs": [
    {
     "data": {
      "image/png": "[encoded data removed]",
      "text/plain": [
       "<Figure size 640x480 with 1 Axes>"
      ]
     },
     "metadata": {},
     "output_type": "display_data"
    },
    {
     "name": "stderr",
     "output_type": "stream",
     "text": [
      "100%|██████████| 501/501 [12:15<00:00,  1.47s/it]\n"
     ]
    }
   ],
   "source": [
    "train_model(model, criterion, optimizer, train_loader)"
   ]
  },
  {
   "cell_type": "code",
   "execution_count": 13,
   "metadata": {
    "execution": {
     "iopub.execute_input": "2024-05-25T10:06:56.201466Z",
     "iopub.status.busy": "2024-05-25T10:06:56.201016Z",
     "iopub.status.idle": "2024-05-25T10:06:56.209078Z",
     "shell.execute_reply": "2024-05-25T10:06:56.207989Z",
     "shell.execute_reply.started": "2024-05-25T10:06:56.201432Z"
    },
    "trusted": true
   },
   "outputs": [],
   "source": [
    "def val_model(model, criterion, dataloader):\n",
    "    \n",
    "    device = 'cuda' if torch.cuda.is_available() else 'cpu'\n",
    "    \n",
    "    model.eval()\n",
    "    perplexity = []\n",
    "    with torch.no_grad():\n",
    "        for batch in tqdm(dataloader):\n",
    "            logits = model(batch['input_ids'].to(device))\n",
    "            loss = criterion(logits.cpu(), batch['target_ids'])\n",
    "            \n",
    "            masked_loss = loss * batch['masks']\n",
    "            total_loss = masked_loss.sum() / batch['masks'].sum()\n",
    "            perplexity.append(torch.exp(total_loss).item())\n",
    "\n",
    "    perplexity = sum(perplexity) / len(perplexity)\n",
    "\n",
    "    return perplexity"
   ]
  },
  {
   "cell_type": "code",
   "execution_count": 14,
   "metadata": {
    "execution": {
     "iopub.execute_input": "2024-05-25T10:21:42.899389Z",
     "iopub.status.busy": "2024-05-25T10:21:42.898771Z",
     "iopub.status.idle": "2024-05-25T10:22:19.845617Z",
     "shell.execute_reply": "2024-05-25T10:22:19.844705Z",
     "shell.execute_reply.started": "2024-05-25T10:21:42.899352Z"
    },
    "trusted": true
   },
   "outputs": [
    {
     "name": "stderr",
     "output_type": "stream",
     "text": [
      "100%|██████████| 215/215 [01:46<00:00,  2.02it/s]\n"
     ]
    },
    {
     "data": {
      "text/plain": [
       "4.983259385131126"
      ]
     },
     "execution_count": 14,
     "metadata": {},
     "output_type": "execute_result"
    }
   ],
   "source": [
    "val_model(model, criterion, val_loader)"
   ]
  },
  {
   "cell_type": "code",
   "execution_count": 15,
   "metadata": {
    "execution": {
     "iopub.execute_input": "2024-05-25T10:22:19.847583Z",
     "iopub.status.busy": "2024-05-25T10:22:19.847003Z",
     "iopub.status.idle": "2024-05-25T10:22:19.852089Z",
     "shell.execute_reply": "2024-05-25T10:22:19.850902Z",
     "shell.execute_reply.started": "2024-05-25T10:22:19.847547Z"
    },
    "trusted": true
   },
   "outputs": [],
   "source": [
    "text = 'A Christmas '"
   ]
  },
  {
   "cell_type": "code",
   "execution_count": 16,
   "metadata": {
    "execution": {
     "iopub.execute_input": "2024-05-25T09:35:08.348716Z",
     "iopub.status.busy": "2024-05-25T09:35:08.348350Z",
     "iopub.status.idle": "2024-05-25T09:35:08.357361Z",
     "shell.execute_reply": "2024-05-25T09:35:08.356292Z",
     "shell.execute_reply.started": "2024-05-25T09:35:08.348686Z"
    },
    "trusted": true
   },
   "outputs": [],
   "source": [
    "def inference(text, char_to_ind, ind_to_char, max_len=150, temperature=0.0):\n",
    "    device = 'cuda' if torch.cuda.is_available() else 'cpu'\n",
    "    \n",
    "    with torch.no_grad():\n",
    "        while True:\n",
    "            \n",
    "            batch = collate([text], char_to_ind)\n",
    "            \n",
    "            last_logits = model(batch['input_ids'].to(device))[0, :, -1]\n",
    "            probs = torch.softmax(last_logits, 0).cpu()\n",
    "            \n",
    "            if temperature == 0.0:\n",
    "                next_token = ind_to_char[torch.argmax(probs, 0).item()]\n",
    "            \n",
    "            else:\n",
    "                probs = np.array([p ** (1. / temperature) for p in probs])\n",
    "                probs /= sum(probs)\n",
    "                next_token = np.random.choice(list(char_to_ind.keys()), p=probs)\n",
    "\n",
    "            if next_token == '<EOS>' or len(text) == 100:\n",
    "                break\n",
    "            \n",
    "            text += next_token\n",
    "    return text"
   ]
  },
  {
   "cell_type": "code",
   "execution_count": 17,
   "metadata": {
    "execution": {
     "iopub.execute_input": "2024-05-25T10:22:19.854795Z",
     "iopub.status.busy": "2024-05-25T10:22:19.854359Z",
     "iopub.status.idle": "2024-05-25T10:22:20.146854Z",
     "shell.execute_reply": "2024-05-25T10:22:20.145996Z",
     "shell.execute_reply.started": "2024-05-25T10:22:19.854761Z"
    },
    "trusted": true
   },
   "outputs": [
    {
     "data": {
      "text/plain": [
       "'A Christmas and the pending on the spected the services and the second and record to the claimed to '"
      ]
     },
     "execution_count": 17,
     "metadata": {},
     "output_type": "execute_result"
    }
   ],
   "source": [
    "inference(text, char_to_ind, ind_to_char, temperature=0.4)"
   ]
  },
  {
   "cell_type": "markdown",
   "metadata": {},
   "source": [
    "## SimpleRNN with word tokenize"
   ]
  },
  {
   "cell_type": "code",
   "execution_count": 18,
   "metadata": {
    "execution": {
     "iopub.execute_input": "2024-05-25T10:23:33.739525Z",
     "iopub.status.busy": "2024-05-25T10:23:33.738885Z",
     "iopub.status.idle": "2024-05-25T10:23:33.747173Z",
     "shell.execute_reply": "2024-05-25T10:23:33.745998Z",
     "shell.execute_reply.started": "2024-05-25T10:23:33.739487Z"
    },
    "trusted": true
   },
   "outputs": [],
   "source": [
    "def proceed(text: str) -> None:\n",
    "    \n",
    "    counter = Counter()\n",
    "    vocab = {'<EOS>', '<BOS>', '<UNK>'}\n",
    "    \n",
    "    sentence_tokenizer = nltk.tokenize.PunktSentenceTokenizer()\n",
    "    punct_tokenizer = nltk.tokenize.TweetTokenizer()\n",
    "    \n",
    "    new_sentences = []\n",
    "    \n",
    "    for sentence in sentence_tokenizer.tokenize(text):\n",
    "        \n",
    "        if '\"' not in sentence:\n",
    "            setence = sentence.replace('\\\\', '')\n",
    "            words = punct_tokenizer.tokenize(sentence)\n",
    "            for word in words:\n",
    "                counter[word] += 1\n",
    "\n",
    "            if len(words) > 4:\n",
    "                new_sentences.append(words)\n",
    "    \n",
    "    \n",
    "    for w, c in counter.items():\n",
    "        if c > 100:\n",
    "            vocab.add(w)\n",
    "\n",
    "        \n",
    "    return new_sentences, vocab"
   ]
  },
  {
   "cell_type": "code",
   "execution_count": 19,
   "metadata": {
    "execution": {
     "iopub.execute_input": "2024-05-25T10:24:43.426717Z",
     "iopub.status.busy": "2024-05-25T10:24:43.426377Z",
     "iopub.status.idle": "2024-05-25T10:25:10.900622Z",
     "shell.execute_reply": "2024-05-25T10:25:10.899798Z",
     "shell.execute_reply.started": "2024-05-25T10:24:43.426691Z"
    },
    "trusted": true
   },
   "outputs": [],
   "source": [
    "origin_text = read_text(paths)\n",
    "\n",
    "sentences, vocab = proceed(origin_text)\n",
    "train_sentences, val_sentences = train_test_split(sentences, test_size=0.3)\n",
    "\n",
    "word2ind = {char: ind for ind, char in enumerate(vocab)}\n",
    "ind2word = {ind: char for char, ind in word2ind.items()}"
   ]
  },
  {
   "cell_type": "code",
   "execution_count": 20,
   "metadata": {
    "execution": {
     "iopub.execute_input": "2024-05-25T10:25:25.690061Z",
     "iopub.status.busy": "2024-05-25T10:25:25.689119Z",
     "iopub.status.idle": "2024-05-25T10:25:25.696382Z",
     "shell.execute_reply": "2024-05-25T10:25:25.695299Z",
     "shell.execute_reply.started": "2024-05-25T10:25:25.690021Z"
    },
    "trusted": true
   },
   "outputs": [],
   "source": [
    "train_dataset = TextDataset(train_sentences)\n",
    "train_loader = DataLoader(train_dataset, batch_size=128, collate_fn=partial(collate, char_to_ind=word2ind, mode='word'))\n",
    "\n",
    "val_dataset = TextDataset(val_sentences)\n",
    "val_loader = DataLoader(val_dataset, batch_size=128, collate_fn=partial(collate, char_to_ind=word2ind, mode='word'))"
   ]
  },
  {
   "cell_type": "code",
   "execution_count": 21,
   "metadata": {
    "execution": {
     "iopub.execute_input": "2024-05-25T10:25:27.506304Z",
     "iopub.status.busy": "2024-05-25T10:25:27.505567Z",
     "iopub.status.idle": "2024-05-25T10:25:27.521608Z",
     "shell.execute_reply": "2024-05-25T10:25:27.520856Z",
     "shell.execute_reply.started": "2024-05-25T10:25:27.506270Z"
    },
    "trusted": true
   },
   "outputs": [],
   "source": [
    "model = SimpleRNN(word2ind)\n",
    "criterion = torch.nn.CrossEntropyLoss(reduction='none')\n",
    "optimizer = torch.optim.Adam(model.parameters())"
   ]
  },
  {
   "cell_type": "code",
   "execution_count": 22,
   "metadata": {
    "execution": {
     "iopub.execute_input": "2024-05-25T10:25:39.269453Z",
     "iopub.status.busy": "2024-05-25T10:25:39.268738Z",
     "iopub.status.idle": "2024-05-25T10:38:50.729487Z",
     "shell.execute_reply": "2024-05-25T10:38:50.728260Z",
     "shell.execute_reply.started": "2024-05-25T10:25:39.269419Z"
    },
    "trusted": true
   },
   "outputs": [
    {
     "data": {
      "image/png": "[encoded data removed]",
      "text/plain": [
       "<Figure size 640x480 with 1 Axes>"
      ]
     },
     "metadata": {},
     "output_type": "display_data"
    },
    {
     "name": "stderr",
     "output_type": "stream",
     "text": [
      "100%|██████████| 168/168 [02:29<00:00,  1.12it/s]\n"
     ]
    }
   ],
   "source": [
    "train_model(model, criterion, optimizer, train_loader)"
   ]
  },
  {
   "cell_type": "code",
   "execution_count": 23,
   "metadata": {
    "execution": {
     "iopub.execute_input": "2024-05-25T10:38:50.732290Z",
     "iopub.status.busy": "2024-05-25T10:38:50.731866Z",
     "iopub.status.idle": "2024-05-25T10:40:07.143476Z",
     "shell.execute_reply": "2024-05-25T10:40:07.142512Z",
     "shell.execute_reply.started": "2024-05-25T10:38:50.732251Z"
    },
    "trusted": true
   },
   "outputs": [
    {
     "name": "stderr",
     "output_type": "stream",
     "text": [
      "100%|██████████| 72/72 [00:18<00:00,  3.85it/s]\n"
     ]
    },
    {
     "data": {
      "text/plain": [
       "67.74898136986627"
      ]
     },
     "execution_count": 23,
     "metadata": {},
     "output_type": "execute_result"
    }
   ],
   "source": [
    "val_model(model, criterion, val_loader)"
   ]
  },
  {
   "cell_type": "code",
   "execution_count": 24,
   "metadata": {
    "execution": {
     "iopub.execute_input": "2024-05-25T12:04:42.688231Z",
     "iopub.status.busy": "2024-05-25T12:04:42.687582Z",
     "iopub.status.idle": "2024-05-25T12:04:42.703800Z",
     "shell.execute_reply": "2024-05-25T12:04:42.702867Z",
     "shell.execute_reply.started": "2024-05-25T12:04:42.688196Z"
    },
    "trusted": true
   },
   "outputs": [],
   "source": [
    "def inference(model, text, word2ind, ind2word, max_len=150, temperature=0.0):\n",
    "    \n",
    "    device = 'cuda' if torch.cuda.is_available() else 'cpu'\n",
    "    punct_tokenizer = nltk.tokenize.TweetTokenizer()\n",
    "    \n",
    "    words = punct_tokenizer.tokenize(text)\n",
    "    with torch.no_grad():\n",
    "        while True:\n",
    "            \n",
    "            batch = collate([words], word2ind, mode='word')\n",
    "            last_logits = model(batch['input_ids'].to(device))[0, :, -1]\n",
    "            probs = torch.softmax(last_logits, 0).cpu()\n",
    "            \n",
    "            if temperature == 0.0:\n",
    "                next_token = ind2word[torch.argmax(probs, 0).item()]\n",
    "            \n",
    "            else:\n",
    "                probs = np.array([p ** (1. / temperature) for p in probs])\n",
    "                probs /= sum(probs)\n",
    "                next_token = np.random.choice(list(word2ind.keys()), p=probs)\n",
    "\n",
    "            if next_token == '<EOS>' or len(words) == 30:\n",
    "                break\n",
    "            \n",
    "            words.append(next_token)\n",
    "    return ' '.join(words)"
   ]
  },
  {
   "cell_type": "code",
   "execution_count": 25,
   "metadata": {
    "execution": {
     "iopub.execute_input": "2024-05-25T10:47:18.048437Z",
     "iopub.status.busy": "2024-05-25T10:47:18.048050Z",
     "iopub.status.idle": "2024-05-25T10:47:18.428038Z",
     "shell.execute_reply": "2024-05-25T10:47:18.427079Z",
     "shell.execute_reply.started": "2024-05-25T10:47:18.048407Z"
    },
    "trusted": true
   },
   "outputs": [
    {
     "data": {
      "text/plain": [
       "'A Christmas tree of a first quarter of the US , said the company is a rise of the first time to the US of the US , the same'"
      ]
     },
     "execution_count": 25,
     "metadata": {},
     "output_type": "execute_result"
    }
   ],
   "source": [
    "text = 'A Christmas tree '\n",
    "inference(model, text, word2ind, ind2word, temperature=0.4)"
   ]
  }
 ],
 "metadata": {
  "kaggle": {
   "accelerator": "nvidiaTeslaT4",
   "dataSources": [
    {
     "datasetId": 622950,
     "sourceId": 1111179,
     "sourceType": "datasetVersion"
    },
    {
     "datasetId": 24984,
     "sourceId": 32267,
     "sourceType": "datasetVersion"
    }
   ],
   "dockerImageVersionId": 30699,
   "isGpuEnabled": true,
   "isInternetEnabled": true,
   "language": "python",
   "sourceType": "notebook"
  },
  "kernelspec": {
   "display_name": "Python 3",
   "language": "python",
   "name": "python3"
  },
  "language_info": {
   "codemirror_mode": {
    "name": "ipython",
    "version": 3
   },
   "file_extension": ".py",
   "mimetype": "text/x-python",
   "name": "python",
   "nbconvert_exporter": "python",
   "pygments_lexer": "ipython3",
   "version": "3.10.12"
  }
 },
 "nbformat": 4,
 "nbformat_minor": 4
}
